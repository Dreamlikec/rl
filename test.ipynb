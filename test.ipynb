{
 "cells": [
  {
   "cell_type": "code",
   "execution_count": 63,
   "metadata": {},
   "outputs": [],
   "source": [
    "import torch\n",
    "\n",
    "def huber_loss(u, kappa, tau):\n",
    "    if kappa>0:\n",
    "        flag = (u.abs()<kappa).float()\n",
    "        l = 0.5*u.pow(2) * flag + kappa*(u.abs()-0.5*kappa) * (1-flag)\n",
    "    else:\n",
    "        l = u.abs()\n",
    "    loss = (tau - (u<0).float()).abs() * l\n",
    "    return loss"
   ]
  },
  {
   "cell_type": "code",
   "execution_count": 41,
   "metadata": {},
   "outputs": [
    {
     "data": {
      "text/plain": [
       "tensor([0.0107])"
      ]
     },
     "execution_count": 41,
     "metadata": {},
     "output_type": "execute_result"
    }
   ],
   "source": [
    "u = torch.rand(1)\n",
    "tau = 0.1\n",
    "kappa = 1\n",
    "huber_loss(u, kappa, tau)"
   ]
  },
  {
   "cell_type": "code",
   "execution_count": 70,
   "metadata": {},
   "outputs": [
    {
     "data": {
      "text/plain": [
       "torch.Size([10, 10])"
      ]
     },
     "execution_count": 70,
     "metadata": {},
     "output_type": "execute_result"
    }
   ],
   "source": [
    "N = 10 # 将概率区间分成几等分\n",
    "quantile_local = torch.rand(1,N)\n",
    "quantile_target = torch.rand(1,N)\n",
    "u = quantile_local - quantile_target.T\n",
    "u.shape"
   ]
  },
  {
   "cell_type": "code",
   "execution_count": 82,
   "metadata": {},
   "outputs": [
    {
     "data": {
      "text/plain": [
       "tensor(0.3711)"
      ]
     },
     "execution_count": 82,
     "metadata": {},
     "output_type": "execute_result"
    }
   ],
   "source": [
    "support = torch.linspace(0,1,N+1)\n",
    "tau = (support[1:]+support[:-1])/2\n",
    "huber_loss(u, kappa, tau.unsqueeze(0)).mean(dim = 1).sum()"
   ]
  },
  {
   "cell_type": "code",
   "execution_count": 13,
   "metadata": {},
   "outputs": [],
   "source": [
    "import numpy as np\n",
    "a = np.random.rand(10)\n",
    "Gt = np.cumsum(a[::-1])[::-1]"
   ]
  },
  {
   "cell_type": "code",
   "execution_count": 14,
   "metadata": {},
   "outputs": [
    {
     "data": {
      "text/plain": [
       "array([6.22795303, 4.8378743 , 3.69804582, 2.86336423, 2.07755849,\n",
       "       1.60322027, 1.24661604, 0.88780767, 0.76091428, 0.30915025])"
      ]
     },
     "execution_count": 14,
     "metadata": {},
     "output_type": "execute_result"
    }
   ],
   "source": [
    "gamma = 0.9\n",
    "r_t = gamma ** np.arange(10)\n",
    "r_t * Gt"
   ]
  },
  {
   "cell_type": "code",
   "execution_count": null,
   "metadata": {},
   "outputs": [],
   "source": []
  }
 ],
 "metadata": {
  "kernelspec": {
   "display_name": "Python 3",
   "language": "python",
   "name": "python3"
  },
  "language_info": {
   "codemirror_mode": {
    "name": "ipython",
    "version": 3
   },
   "file_extension": ".py",
   "mimetype": "text/x-python",
   "name": "python",
   "nbconvert_exporter": "python",
   "pygments_lexer": "ipython3",
   "version": "3.7.4"
  }
 },
 "nbformat": 4,
 "nbformat_minor": 2
}
