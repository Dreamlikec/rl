{
 "cells": [
  {
   "cell_type": "code",
   "execution_count": 3,
   "metadata": {},
   "outputs": [],
   "source": [
    "import gym\n",
    "from agent import Agent\n",
    "from config import *\n",
    "import torch\n",
    "\n",
    "env = gym.make(RAM_ENV_NAME)\n",
    "max_t = MAX_T\n",
    "eps_min = EPS_MIN\n",
    "\n",
    "agent = Agent(tau=TAU, gamma=GAMMA, batch_size=BATCH_SIZE, lr=LEARNING_RATE,\n",
    "                  state_size=env.observation_space.shape[0],\n",
    "                  actions_size=env.action_space.n, device=DEVICE, double=DOUBLE, duel=DUEL, visual=False,\n",
    "                  prioritized=PRIORITIZED)\n",
    "agent.Q_local.load_state_dict(torch.load(\"{}_weights.pth\".format(RAM_ENV_NAME)))\n",
    "\n",
    "test_episodes = 10\n",
    "for i in range(test_episodes):\n",
    "    done = False\n",
    "    state = env.reset()\n",
    "    t = 0\n",
    "    while not done and t<max_t:\n",
    "        env.render()\n",
    "        t += 1\n",
    "        state = state.reshape(1,-1)\n",
    "        action = agent.act(state, 0)\n",
    "        next_state, reward, done,_ = env.step(action)\n",
    "        state = next_state.copy()\n",
    "env.close()"
   ]
  },
  {
   "cell_type": "code",
   "execution_count": null,
   "metadata": {},
   "outputs": [],
   "source": []
  }
 ],
 "metadata": {
  "kernelspec": {
   "display_name": "Python 3",
   "language": "python",
   "name": "python3"
  },
  "language_info": {
   "codemirror_mode": {
    "name": "ipython",
    "version": 3
   },
   "file_extension": ".py",
   "mimetype": "text/x-python",
   "name": "python",
   "nbconvert_exporter": "python",
   "pygments_lexer": "ipython3",
   "version": "3.7.4"
  }
 },
 "nbformat": 4,
 "nbformat_minor": 2
}
